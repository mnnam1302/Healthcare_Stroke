{
 "cells": [
  {
   "cell_type": "code",
   "execution_count": null,
   "metadata": {},
   "outputs": [],
   "source": [
    "import numpy as np\n",
    "import pandas as pd\n",
    "\n",
    "import matplotlib.pyplot as plt\n",
    "import seaborn as sns"
   ]
  },
  {
   "cell_type": "code",
   "execution_count": null,
   "metadata": {},
   "outputs": [],
   "source": [
    "sns.set_theme() # Apply the default theme"
   ]
  },
  {
   "attachments": {},
   "cell_type": "markdown",
   "metadata": {},
   "source": [
    "# **A. THU THẬP DỮ LIỆU**"
   ]
  },
  {
   "attachments": {},
   "cell_type": "markdown",
   "metadata": {},
   "source": [
    "### *1. Ngữ cảnh, câu chuyện gì khiến nhóm sinh viên thực hiện việc tìm kiếm dữ liệu?*\n",
    "* Trong đời sống hiện đại, sức khỏe là một trong những khía cạnh được con người quan tâm nhiều nhất. Theo Tổ chức Y tế Thế giới (WHO), đột quỵ là nguyên nhân gây tử vong đứng thứ 2 trên toàn cầu, chiếm khoảng 11% tổng số ca tử vong. Vì vậy, nhóm 15 quyết định tìm hiểu dữ liệu về các yếu tố và hành vi trong cuộc sống có thể dẫn đến nguy cơ đột quỵ."
   ]
  },
  {
   "attachments": {},
   "cell_type": "markdown",
   "metadata": {},
   "source": [
    "### *2. Dữ liệu mà nhóm sinh viên là về chủ đề gì và lấy từ nguồn nào?*\n",
    "* Dữ liệu nhóm cung cấp về chủ đề Các yếu tố và thói quen sinh hoạt của bệnh nhân có thể dẫn đến nguy cơ đột quỵ. Dữ liệu này được sử dụng để dự đoán, xác định xem một bệnh nhân có khả năng bị đột quỵ hay không dựa vào các yếu tố như giới tính, độ tuổi, bệnh cao huyết áp, tình trạng bệnh tim, tình trạng kết hôn, tính chất công việc, môi trường sinh sống, chỉ số đường huyết, chỉ số BMI, tình trạng hút thuốc của bệnh nhân.\n",
    "* Nguồn: Stroke Prediction Dataset từ Kaggle, https://www.kaggle.com/datasets/fedesoriano/stroke-prediction-dataset"
   ]
  },
  {
   "attachments": {},
   "cell_type": "markdown",
   "metadata": {},
   "source": [
    "### *3. Người ta có cho phép sử dụng dữ liệu như thế này hay không?*\n",
    "* Người cung cấp dataset cho phép sử dụng dữ liệu với mục đích giáo dục. Trong phần Acknowledgements có chú thích: (Confidential Source) - Use only for educational purposes."
   ]
  },
  {
   "attachments": {},
   "cell_type": "markdown",
   "metadata": {},
   "source": [
    "### *4. Người ta đã thu thập dữ liệu này như thế nào? Phương pháp thực hiện là gì?*\n",
    "* Về vấn đề cách thức thu thập dữ liệu, Dataset Creator đã công bố trên Kaggle Discussion, về vấn đề bảo mật quyền riêng tư, các nguồn thông tin và phương pháp thu thập dữ liệu trong dataset chỉ được lưu hành nội bộ.\n",
    "* Link bài đăng của Dataset Creator: https://www.kaggle.com/datasets/fedesoriano/stroke-prediction-dataset/discussion/237113"
   ]
  },
  {
   "attachments": {},
   "cell_type": "markdown",
   "metadata": {},
   "source": [
    "# **B. KHÁM PHÁ DỮ LIỆU**"
   ]
  },
  {
   "attachments": {},
   "cell_type": "markdown",
   "metadata": {},
   "source": [
    "## **1. Đọc dữ liệu và một số thông tin phổ biến**"
   ]
  },
  {
   "cell_type": "code",
   "execution_count": null,
   "metadata": {},
   "outputs": [],
   "source": [
    "patient_df = pd.read_csv('healthcare_dataset_stroke.csv', index_col='id')\n",
    "patient_df.head()"
   ]
  },
  {
   "attachments": {},
   "cell_type": "markdown",
   "metadata": {},
   "source": [
    "* Số dòng và cột của dataset"
   ]
  },
  {
   "cell_type": "code",
   "execution_count": null,
   "metadata": {},
   "outputs": [],
   "source": [
    "n_rows, n_cols = patient_df.shape\n",
    "print(f\"Number of rows: {n_rows}\")\n",
    "print(f\"Number of columns: {n_cols}\")"
   ]
  },
  {
   "attachments": {},
   "cell_type": "markdown",
   "metadata": {},
   "source": [
    "* Dữ liệu có bị lặp"
   ]
  },
  {
   "cell_type": "code",
   "execution_count": null,
   "metadata": {},
   "outputs": [],
   "source": [
    "is_duplicate_rows = patient_df.duplicated().any()\n",
    "is_duplicate_rows"
   ]
  },
  {
   "attachments": {},
   "cell_type": "markdown",
   "metadata": {},
   "source": [
    "## **2. Khám phá dữ liệu**"
   ]
  },
  {
   "attachments": {},
   "cell_type": "markdown",
   "metadata": {},
   "source": [
    "### *2.1. Mỗi dòng có ý nghĩa gì? Có vấn đề các dòng có ý nghĩa khác nhau không?*\n",
    "* Theo mô tả dữ liệu và quan sát sơ bộ Stroke Prediction Dataset, một dòng cho biết các thông tin về yếu tố và thói quen, hành vi có nguy cơ dẫn đến đột quỵ của một bệnh nhân. \n",
    "* Không có vấn đề các dòng có ý nghĩa khác nhau."
   ]
  },
  {
   "attachments": {},
   "cell_type": "markdown",
   "metadata": {},
   "source": [
    "### *2.2. Mỗi cột có ý nghĩa gì?*\n",
    "Ý nghĩa từng cột:\n",
    "* **id**: mã định danh từng bệnh nhân, mỗi bệnh nhân có một mã định danh riêng.\n",
    "* **gender**: giới tính của bệnh nhân, gồm 3 loại: 'Male', 'Female' và 'Other'.\n",
    "* **age**: tuổi của từng bệnh nhân.\n",
    "* **hypertension**: tình trạng bệnh cao huyết áp của bệnh nhân, gồm 2 loại: '0' nếu bệnh nhân không bị cao huyết áp và '1' nếu bệnh nhân có bệnh cao huyết áp.\n",
    "* **heart_disease**: tình trạng bệnh tim của bệnh nhân, gồm 2 loại: '0' nếu bệnh nhân không bị bệnh tim và '1' nếu bệnh nhân có bệnh tim.\n",
    "* **ever_married**: tình trạng kết hôn, gồm 2 loại: 'No' nếu bệnh nhân chưa từng kết hôn và 'Yes' nếu bệnh nhân đang hoặc đã từng kết hôn.\n",
    "* **work_type**: loại công việc mà bệnh nhân đang làm, gồm 5 loại: 'Private', 'Self-employed', 'Govt_job', 'children' và 'Never_worked'.\n",
    "* **Residence_type**: loại môi trường bệnh nhân sinh sống, gồm 2 loại: 'Rural' và 'Urban'.\n",
    "* **avg_glucose_level**: chỉ số đường huyết của từng bệnh nhân.\n",
    "* **bmi**: chỉ số Body Mass Index (BMI) của từng bệnh nhân.\n",
    "* **smoking_status**: tình trạng hút thuốc của bệnh nhân, gồm 4 loại: 'formerly smoked', 'never smoked', 'smokes' và 'Unknown'.\n",
    "* **stroke**: tình trạng bệnh nhân đã từng bị đột quỵ hay không, gồm 2 loại: '0' nếu bệnh nhân không bị đột quỵ và '1' nếu bệnh nhân từng bị đột quỵ."
   ]
  },
  {
   "attachments": {},
   "cell_type": "markdown",
   "metadata": {},
   "source": [
    "### *2.3. Mỗi cột hiện đang có kiểu dữ liệu gì? Có cột nào có kiểu dữ liệu chưa phù hợp để có thể xử lý tiếp hay không?*"
   ]
  },
  {
   "cell_type": "code",
   "execution_count": null,
   "metadata": {},
   "outputs": [],
   "source": [
    "col_dtypes = patient_df.dtypes\n",
    "col_dtypes"
   ]
  },
  {
   "attachments": {},
   "cell_type": "markdown",
   "metadata": {},
   "source": [
    "*Kiểm tra xem có cột nào có kiểu dữ liệu chưa phù hợp không?*\n",
    "* Các cột `gender`, `ever_married`, `work_type`, `Residence_type`, `smoking_status` đều có dtype là object, thường ám chỉ kiểu chuỗi. Để kiểm tra được kiểu dữ liệu thật sự của các phần tử trong cột thì phải tiến hành truy xuất vào từng phần tử và dùng câu lệnh type để xem kiểu dữ liệu."
   ]
  },
  {
   "cell_type": "code",
   "execution_count": null,
   "metadata": {},
   "outputs": [],
   "source": [
    "for i in range(len(patient_df)):\n",
    "    assert type(patient_df['gender'].iloc[i]) == str\n",
    "    assert type(patient_df['ever_married'].iloc[i]) == str\n",
    "    assert type(patient_df['work_type'].iloc[i]) == str\n",
    "    assert type(patient_df['Residence_type'].iloc[i]) == str\n",
    "    assert type(patient_df['smoking_status'].iloc[i]) == str"
   ]
  },
  {
   "attachments": {},
   "cell_type": "markdown",
   "metadata": {},
   "source": [
    "* Như vậy, kiểu dữ liệu của các phần tử trong các cột `gender`, `ever_married`, `work_type`, `Residence_type`, `smoking_status` đều là kiểu chuỗi, nên phù hợp.\n",
    "* Cột `id` có kiểu dữ liệu **int64** là phù hợp vì mã định danh của bệnh nhân đều ở dạng số nguyên. Còn các cột `hypertension`, `heart_disease`, `stroke` đều có dữ liệu dạng số là '0' và '1' nên kiểu dữ liệu **int64** là phù hợp.\n",
    "* Các cột `age`, `avg_glucose_level`, `bmi` đều là những chỉ số, có thể không phải ở dạng số nguyên nên kiểu dữ liệu **float64** là phù hợp."
   ]
  },
  {
   "attachments": {},
   "cell_type": "markdown",
   "metadata": {},
   "source": [
    "### *2.4. `Phân loại` các features dạng **Numerical** and **Categorical** và `sự phân bố` của các features*"
   ]
  },
  {
   "attachments": {},
   "cell_type": "markdown",
   "metadata": {},
   "source": [
    "#### 2.4.1. Phân loại\n",
    "* Categorical: `gender`, `hypertension`, `heart_disease`, `ever_married`, `work_type`, `Residence_type`, `smoking_status`, `stroke`\n",
    "  * Nominal: `gender`, `hypertension`, `heart_disease`, `ever_married`, `work_type`, `Residence_type`, `smoking_status`, `stroke`\n",
    "  * Ordinal: không có dữ liệu được phân loại theo Ordinal.\n",
    "* Numerical: `age`, `avg_glucose_level`, `bmi`\n",
    "  * Discrete: không có dữ liệu được phân loại theo Discrete.\n",
    "  * Continuous: `age`, `avg_glucose_level`, `bmi`"
   ]
  },
  {
   "attachments": {},
   "cell_type": "markdown",
   "metadata": {},
   "source": [
    "* Theo như data dictionary, nếu mà bệnh nhân được đánh dấu là 1, thì người ấy bị đột quỵ. Rõ ràng, số 0 hay 1 là một cái cờ hiệu để biết rằng bệnh nhân đó có bị đột quỵ hay không. Đúng, kiểu dữ liệu của column 'Stroke' là int64, điều này là nó thuộc loại số. Tuy nhiên, ta có thể thay đổi với những dòng lệnh sau."
   ]
  },
  {
   "cell_type": "code",
   "execution_count": null,
   "metadata": {},
   "outputs": [],
   "source": [
    "patient_df['stroke'] = patient_df['stroke'].astype('category')"
   ]
  },
  {
   "cell_type": "code",
   "execution_count": null,
   "metadata": {},
   "outputs": [],
   "source": [
    "patient_df['stroke'].dtype"
   ]
  },
  {
   "cell_type": "code",
   "execution_count": null,
   "metadata": {},
   "outputs": [],
   "source": [
    "num_features = ['age', 'avg_glucose_level', 'bmi']\n",
    "cat_features = ['gender', 'hypertension', 'heart_disease', 'ever_married', 'work_type', 'Residence_type', 'smoking_status']\n",
    "\n",
    "features = num_features + cat_features\n",
    "print(features)"
   ]
  },
  {
   "attachments": {},
   "cell_type": "markdown",
   "metadata": {},
   "source": [
    "* Chuyển những đặc trưng thuộc Categorical mà ta đã phân tích ở trên về đúng kiểu `category`"
   ]
  },
  {
   "cell_type": "code",
   "execution_count": null,
   "metadata": {},
   "outputs": [],
   "source": [
    "def convert_cat(df, features):\n",
    "    for feature in features:\n",
    "        df[feature] = df[feature].astype('category')\n",
    "\n",
    "convert_cat(patient_df, cat_features)   "
   ]
  },
  {
   "cell_type": "code",
   "execution_count": null,
   "metadata": {},
   "outputs": [],
   "source": [
    "patient_df.info()"
   ]
  },
  {
   "attachments": {},
   "cell_type": "markdown",
   "metadata": {},
   "source": [
    "#### 2.4.2. Sự phân tán của các đặc trưng (Chỗ này có thể phân tích rõ xíu từng đặc trưng)"
   ]
  },
  {
   "attachments": {},
   "cell_type": "markdown",
   "metadata": {},
   "source": [
    "`Distribution of Numerical feature values across the samples`"
   ]
  },
  {
   "cell_type": "code",
   "execution_count": null,
   "metadata": {},
   "outputs": [],
   "source": [
    "patient_df.describe()"
   ]
  },
  {
   "attachments": {},
   "cell_type": "markdown",
   "metadata": {},
   "source": [
    "* Column 'bmi' có chứa giá trị null. Mình sẽ xử lý ở bước EDA\n",
    "* Nhìn vào các giá trị min, std và max của 3 đặc trưng. Ta thấy có xuất hiện giá trị ngoại lai"
   ]
  },
  {
   "attachments": {},
   "cell_type": "markdown",
   "metadata": {},
   "source": [
    "`Distribution of Categorical feature values across the samples`"
   ]
  },
  {
   "cell_type": "code",
   "execution_count": null,
   "metadata": {},
   "outputs": [],
   "source": [
    "patient_df.describe(include='category')"
   ]
  },
  {
   "cell_type": "markdown",
   "metadata": {},
   "source": [
    "#### Biến mục tiêu: Stroke"
   ]
  },
  {
   "cell_type": "code",
   "execution_count": null,
   "metadata": {},
   "outputs": [],
   "source": [
    "stroke_df = patient_df['stroke'].value_counts().to_frame()"
   ]
  },
  {
   "cell_type": "code",
   "execution_count": null,
   "metadata": {},
   "outputs": [],
   "source": [
    "patient_df['stroke'].value_counts(normalize=True).to_frame()"
   ]
  },
  {
   "cell_type": "code",
   "execution_count": null,
   "metadata": {},
   "outputs": [],
   "source": [
    "sizes = np.asarray(stroke_df).flatten()\n",
    "labels = 'non-stroke', 'stroke'\n",
    "explode = (0, 0.2)\n",
    "\n",
    "fig,ax = plt.subplots(figsize=(8,5))\n",
    "\n",
    "ax.pie(sizes, explode=explode, labels=labels,\n",
    "        autopct='%1.2f%%',\n",
    "        shadow=True, startangle=90)\n",
    "\n",
    "ax.axis('equal')\n",
    "ax.set_title(label=\"Tỷ lệ người bị bệnh đột quỵ và không đột quỵ\", loc='left');"
   ]
  },
  {
   "attachments": {},
   "cell_type": "markdown",
   "metadata": {},
   "source": [
    "Dữ liệu mà ta đang trực quan có 4.87% người bị mắc bệnh đột quỵ."
   ]
  },
  {
   "attachments": {},
   "cell_type": "markdown",
   "metadata": {},
   "source": [
    "### *2.5. Feature Engineering and Data Wrangling (Data pre-processing)*"
   ]
  },
  {
   "attachments": {},
   "cell_type": "markdown",
   "metadata": {},
   "source": [
    "* Tiền xử lý Feature `BMI`"
   ]
  },
  {
   "cell_type": "code",
   "execution_count": null,
   "metadata": {},
   "outputs": [],
   "source": [
    "def display_missing(df, feature_cols):\n",
    "    n_rows = df.shape[0]\n",
    "    for col in feature_cols:\n",
    "        missing_count = df[col].isnull().sum()\n",
    "        if missing_count > 0:\n",
    "            print(f\"Column {col} has {missing_count/n_rows*100:.2f} % missing values.\")\n",
    "\n",
    "display_missing(patient_df, patient_df.columns)"
   ]
  },
  {
   "cell_type": "code",
   "execution_count": null,
   "metadata": {},
   "outputs": [],
   "source": [
    "patient_df['bmi'].describe()"
   ]
  },
  {
   "cell_type": "code",
   "execution_count": null,
   "metadata": {},
   "outputs": [],
   "source": [
    "sns.boxplot(data=patient_df, x='bmi')\n",
    "plt.title(\"Sự phân tán của thuộc tính BMI\");"
   ]
  },
  {
   "attachments": {},
   "cell_type": "markdown",
   "metadata": {},
   "source": [
    "* Ta thấy giá trị mean = 28.89 và độ lệch chuẩn std = 7.85\n",
    "* Tuy nhiên, giá trị max = 97.6. Xuất hiện giá trị ngoại lai. Vì vậy, ta không thể dùng fill null bằng chiến lược điền bằng mean vì có thể gây ra sai số nhiều."
   ]
  },
  {
   "attachments": {},
   "cell_type": "markdown",
   "metadata": {},
   "source": [
    "* Chiến lược ta sẽ chọn 1 giá trị bmi `hợp lý` dựa vào feature `age`"
   ]
  },
  {
   "attachments": {},
   "cell_type": "markdown",
   "metadata": {},
   "source": [
    "`B1:` Ta nhóm các giá trị độ tuổi thành từng nhóm trẻ em (0-16), thanh niên (16-40), trung niên (40-65), cao tuoi (65-100)"
   ]
  },
  {
   "cell_type": "code",
   "execution_count": null,
   "metadata": {},
   "outputs": [],
   "source": [
    "patient_df['age_title'] = pd.cut(patient_df['age'], bins=[0,11,17,29,44,64,100], \n",
    "                                 labels=[\"Trẻ em\", \"Thiếu niên\", \"Thanh niên\", \"Người lớn\", \"Trung niên\", \"Cao tuổi\"])"
   ]
  },
  {
   "attachments": {},
   "cell_type": "markdown",
   "metadata": {},
   "source": [
    "`B2:` Ta nhóm cột `Title` (theo loại độ tuổi) và tính giá trị `bmi` theo từng loại"
   ]
  },
  {
   "cell_type": "code",
   "execution_count": null,
   "metadata": {},
   "outputs": [],
   "source": [
    "bmi_by_gender_age = patient_df.groupby(['age_title']).median(numeric_only=True)['bmi'].to_frame()\n",
    "bmi_by_gender_age"
   ]
  },
  {
   "attachments": {},
   "cell_type": "markdown",
   "metadata": {},
   "source": [
    "`B3:` Điền những giá trị `bmi` vào chỗ null sao cho hợp lý."
   ]
  },
  {
   "cell_type": "code",
   "execution_count": null,
   "metadata": {},
   "outputs": [],
   "source": [
    "patient_df['bmi'] = patient_df.groupby(['age_title'])['bmi'].apply(lambda x: x.fillna(x.median()))"
   ]
  },
  {
   "cell_type": "code",
   "execution_count": null,
   "metadata": {},
   "outputs": [],
   "source": [
    "count = patient_df['bmi'].isna().sum()\n",
    "print(f\"Số lượng giá trị null của column bmi sau khi xử lý là: {count}\")"
   ]
  },
  {
   "attachments": {},
   "cell_type": "markdown",
   "metadata": {},
   "source": [
    "**`Sau khi có xử lý các giá trị null ở column BMI`**\n",
    "* `Ta phân loại BMI 5 mức độ béo phì theo WHO`\n",
    "- Thiếu cân: < 18.5\n",
    "- Cân đối: 18.5 - 24.9\n",
    "- Thừa cân: 25-29.9\n",
    "- Béo phì: 30-34.9\n",
    "- Béo phì nguy hiểm: >= 35"
   ]
  },
  {
   "cell_type": "code",
   "execution_count": null,
   "metadata": {},
   "outputs": [],
   "source": [
    "patient_df['bmi_title'] = pd.cut(patient_df['bmi'], bins=[0, 18.5, 25, 30, 35, 100], right=False,\n",
    "                   labels=[\"Thiếu cân\", \"Cân đối\", \"Thừa cân\", \"Béo phì\", \"Béo phì nguy hiểm\"])"
   ]
  },
  {
   "cell_type": "code",
   "execution_count": null,
   "metadata": {},
   "outputs": [],
   "source": [
    "patient_df.head()\n",
    "# patient_df['bmi_title'] = patient_df.drop(\"bmi_title\", axis=1)"
   ]
  },
  {
   "attachments": {},
   "cell_type": "markdown",
   "metadata": {},
   "source": [
    "## 3. Correlating categorical features (Mối quan hệ)"
   ]
  },
  {
   "attachments": {},
   "cell_type": "markdown",
   "metadata": {},
   "source": [
    "### 3.1 Correlating categorical features\n",
    "Categorical: `stroke`, `gender`, `hypertension`, `heart_disease`, `ever_married`, `work_type`, `Residence_type`, `smoking_status`"
   ]
  },
  {
   "attachments": {},
   "cell_type": "markdown",
   "metadata": {},
   "source": [
    "#### `Gender: giới tính`"
   ]
  },
  {
   "cell_type": "code",
   "execution_count": null,
   "metadata": {},
   "outputs": [],
   "source": [
    "patient_df.groupby('gender')['stroke'].value_counts().to_frame()"
   ]
  },
  {
   "cell_type": "code",
   "execution_count": null,
   "metadata": {},
   "outputs": [],
   "source": [
    "people_by_stroke = patient_df.loc[(patient_df.stroke == 1),('stroke','gender')]"
   ]
  },
  {
   "cell_type": "code",
   "execution_count": null,
   "metadata": {},
   "outputs": [],
   "source": [
    "sns.countplot(data=people_by_stroke, x='gender')\n",
    "plt.title(\"Số người mắc bệnh đột quỵ theo giới tính\")\n",
    "plt.xlabel(\"Giới tính\")\n",
    "plt.ylabel(\"Số lượng\");"
   ]
  },
  {
   "attachments": {},
   "cell_type": "markdown",
   "metadata": {},
   "source": [
    "* **Nhận xét:** \n",
    "- Người có giới tính khác nam và nữ không có khả năng bị đột quỵ.\n",
    "- Số lượng người bị đột quỵ xuất hiện nhiều ở giới tính nữ hơn là giới tính nam."
   ]
  },
  {
   "cell_type": "markdown",
   "metadata": {},
   "source": [
    "#### `Hypertension: tăng huyết áp ` "
   ]
  },
  {
   "cell_type": "code",
   "execution_count": null,
   "metadata": {},
   "outputs": [],
   "source": [
    "fig = plt.figure(figsize=(15,8))\n",
    "labels = 'non-stroke', 'stroke'\n",
    "explode = (0, 0.1)\n",
    "\n",
    "hpt_df=patient_df.groupby(['hypertension'])\n",
    "\n",
    "hpt1_df=hpt_df.get_group(1)\n",
    "stroke_hpt1_df=hpt1_df['stroke'].value_counts()\n",
    "sizes1= np.asarray(stroke_hpt1_df).flatten()\n",
    "\n",
    "hpt0_df=hpt_df.get_group(0)\n",
    "stroke_hpt0_df=hpt0_df['stroke'].value_counts()\n",
    "sizes0 = np.asarray(stroke_hpt0_df).flatten()\n",
    "\n",
    "ax1 = plt.subplot2grid((1,2),(0,0))\n",
    "plt.pie(sizes1, explode=explode, labels=labels,autopct='%2.2f%%', startangle=90,colors=('tab:gray','tab:orange'))\n",
    "plt.title('Tỷ lệ người bị đột quỵ mà bị bệnh cao huyết áp', fontsize=16)\n",
    "\n",
    "ax1 = plt.subplot2grid((1,2),(0,1))\n",
    "plt.pie(sizes0, explode=explode, labels=labels,autopct='%5.2f%%', startangle=90,colors=('tab:gray','tab:orange'))\n",
    "plt.title('Tỷ lệ người bị đột quỵ mà không bị bệnh cao huyết áp', fontsize=16);"
   ]
  },
  {
   "cell_type": "markdown",
   "metadata": {},
   "source": [
    "#### `Heart disease: bệnh tim mạch`"
   ]
  },
  {
   "cell_type": "code",
   "execution_count": null,
   "metadata": {},
   "outputs": [],
   "source": [
    "fig = plt.figure(figsize=(15,8))\n",
    "labels = 'non-stroke', 'stroke'\n",
    "explode = (0, 0.1)\n",
    "hds_df = patient_df.groupby(['heart_disease'])\n",
    "hds1_df = hds_df.get_group(1)\n",
    "stroke_hds1_df = hds1_df['stroke'].value_counts()\n",
    "sizes1 = np.asarray(stroke_hds1_df).flatten()\n",
    "\n",
    "hds0_df = hds_df.get_group(0)\n",
    "stroke_hds0_df = hds0_df['stroke'].value_counts()\n",
    "sizes0 = np.asarray(stroke_hds0_df).flatten()\n",
    "\n",
    "ax1 = plt.subplot2grid((1,2),(0,0))\n",
    "plt.pie(sizes1, explode=explode, labels=labels,autopct='%2.2f%%', startangle=90,colors=('tab:olive','tab:cyan'))\n",
    "plt.title('Tỷ lệ người bị đột quỵ mà bị bệnh tim', fontsize=16)\n",
    "\n",
    "ax1 = plt.subplot2grid((1,2),(0,1))\n",
    "plt.pie(sizes0, explode=explode, labels=labels,autopct='%2.2f%%', startangle=90,colors=('tab:olive','tab:cyan'))\n",
    "plt.title('Tỷ lệ người bị đột quỵ mà không bị bệnh tim', fontsize=16);"
   ]
  },
  {
   "cell_type": "markdown",
   "metadata": {},
   "source": [
    "* **Nhận xét:** Tỷ lệ người bị đột quỵ mà mắc bệnh tim `gấp khoảng 4 lần` tỷ lệ người đột quỵ mà không bị bệnh tim."
   ]
  },
  {
   "attachments": {},
   "cell_type": "markdown",
   "metadata": {},
   "source": [
    "#### `Married: tình trạng hôn nhân`"
   ]
  },
  {
   "cell_type": "code",
   "execution_count": null,
   "metadata": {},
   "outputs": [],
   "source": [
    "patient_df['ever_married'].value_counts()"
   ]
  },
  {
   "cell_type": "code",
   "execution_count": null,
   "metadata": {},
   "outputs": [],
   "source": [
    "sns.countplot(data=patient_df, x='stroke', hue='ever_married')"
   ]
  },
  {
   "attachments": {},
   "cell_type": "markdown",
   "metadata": {},
   "source": [
    "- Bước 1: Mình lọc ra những người thuộc độ tuổi có thể kết hơn ra trước (Nữ >= 18, Nam >= 21). Nếu không chia thì trẻ em cũng tính như chưa kết hôn sẽ ta trực quan bị nghiêng.\n",
    "- Bước 2: Trực quan trên dữ liệu này."
   ]
  },
  {
   "cell_type": "code",
   "execution_count": null,
   "metadata": {},
   "outputs": [],
   "source": [
    "patient_df['gender'].unique()"
   ]
  },
  {
   "cell_type": "code",
   "execution_count": null,
   "metadata": {},
   "outputs": [],
   "source": [
    "male_age_able_got_married = patient_df.loc[((patient_df.age >= 18)& (patient_df.gender==\"Female\")) |\n",
    "                                             ((patient_df.age >= 21)& (patient_df.gender==\"Male\"))]"
   ]
  },
  {
   "cell_type": "code",
   "execution_count": null,
   "metadata": {},
   "outputs": [],
   "source": [
    "male_age_able_got_married"
   ]
  },
  {
   "cell_type": "code",
   "execution_count": null,
   "metadata": {},
   "outputs": [],
   "source": [
    "male_age_able_got_married.groupby(['ever_married'])['stroke'].value_counts()"
   ]
  },
  {
   "attachments": {},
   "cell_type": "markdown",
   "metadata": {},
   "source": [
    "#### `Smoke: hút thuốc`"
   ]
  },
  {
   "cell_type": "code",
   "execution_count": null,
   "metadata": {},
   "outputs": [],
   "source": [
    "ss_grp = patient_df.groupby('smoking_status')\n",
    "\n",
    "SS_fig, axes = plt.subplots(2, 2, figsize = (12, 12))\n",
    "explode = (0, 0.1)\n",
    "labels = 'Non-stroke', 'Stroke'\n",
    "colors = 'dodgerblue', 'sandybrown'\n",
    "\n",
    "ss = []\n",
    "\n",
    "for i, key in zip(range(0, len(ss_grp.groups.keys())), ss_grp.groups.keys()):\n",
    "    ss.append(np.asarray(ss_grp.get_group(key)['stroke'].value_counts()))\n",
    "    axes[i // 2, i % 2].pie(ss[i], \n",
    "                            explode = explode, labels = labels, colors = colors, autopct = '%2.2f%%', startangle = 90)\n",
    "    axes[i // 2, i % 2].set_title(f\"Status: {key}\")\n",
    "SS_fig.supxlabel('Percentage of people with stroke and their smoking status');"
   ]
  },
  {
   "attachments": {},
   "cell_type": "markdown",
   "metadata": {},
   "source": [
    "### 3.2 Correlating numerical features\n",
    "* Numerical: `AGE`, `AVG_GLUCOZO_LEVEL`, `BMI` "
   ]
  },
  {
   "attachments": {},
   "cell_type": "markdown",
   "metadata": {},
   "source": [
    "#### `Age`"
   ]
  },
  {
   "cell_type": "code",
   "execution_count": null,
   "metadata": {},
   "outputs": [],
   "source": [
    "sns.countplot(data=patient_df, x='age_title', hue='stroke');"
   ]
  },
  {
   "attachments": {},
   "cell_type": "markdown",
   "metadata": {},
   "source": [
    "*  **Nhận xét:** Ta thấy ở độ tuổi trung niên và cao tuổi có khả năng mắc bệnh đột quỵ cao hơn những người thuộc độ tuổi còn lại. Vì vậy, những người ở độ tuổi trung niên và cao tuổi cần hết sức cẩn thận."
   ]
  },
  {
   "cell_type": "code",
   "execution_count": null,
   "metadata": {},
   "outputs": [],
   "source": [
    "sns.histplot(data=patient_df, x=\"age\", hue='stroke', bins=40, kde=True);"
   ]
  },
  {
   "attachments": {},
   "cell_type": "markdown",
   "metadata": {},
   "source": [
    "* Phân tích tỷ lệ người mắc bệnh đột quỵ ở độ tuổi từ 78 đến 82."
   ]
  },
  {
   "cell_type": "code",
   "execution_count": null,
   "metadata": {},
   "outputs": [],
   "source": [
    "num_patient_78_82 = patient_df.loc[(patient_df.age >= 78) & (patient_df.age <= 82), 'stroke'].value_counts()\n",
    "print(f\"Tỷ lệ bệnh nhân ở độ tuổi từ 78 đến 82 mắc bệnh đột quỵ là:{num_patient_78_82[1] / num_patient_78_82.sum() * 100: .2f}%\")"
   ]
  },
  {
   "attachments": {},
   "cell_type": "markdown",
   "metadata": {},
   "source": [
    "* **Nhận xét:** \n",
    "- Bệnh đột quỵ có dấu hiệu xuất hiện ở tuổi 40 tuổi nhưng không quá nhiều.\n",
    "- Độ tuổi 56-60, người ở độ tuổi này có dấu hiệu bị đột quỵ cao hơn so với người có độ tuổi 40.\n",
    "- Từ 60-68 tuổi, mức độ đột quỵ không quá thay đổi nhiều.\n",
    "- Người từ 68 trở đi thì tỷ lệ người đột quỵ có dấu hiệu tăng rõ rõ rệt hơn so với độ tuổi 56-60.\n",
    "- Đỉnh điểm, người ở độ tuổi 78-82 có tỷ tỷ lệ bị mắc bệnh đột quỵ cực kỳ cao, `20.91%`. Chúng ta cần quan tâm cha mẹ hay ông bà nhiều hơn ở mức độ này."
   ]
  },
  {
   "attachments": {},
   "cell_type": "markdown",
   "metadata": {},
   "source": [
    "#### `BMI (body mass ...)` "
   ]
  },
  {
   "cell_type": "code",
   "execution_count": null,
   "metadata": {},
   "outputs": [],
   "source": [
    "patient_df.head()"
   ]
  },
  {
   "cell_type": "code",
   "execution_count": null,
   "metadata": {},
   "outputs": [],
   "source": [
    "sns.countplot(data=patient_df, x='bmi_title', hue='stroke');"
   ]
  },
  {
   "attachments": {},
   "cell_type": "markdown",
   "metadata": {},
   "source": [
    "* **Nhận xét:** \n",
    "- Người có chỉ số cơ thể ở mức `cân đối` thì vẫn có nguy cơ đột quỵ nhưng cũng không quá nhiều.\n",
    "- Tuy nhiên, những người thừa cân, béo phì và béo phì nguy hiểm cần phải cẩn thận với bệnh đột quỵ"
   ]
  },
  {
   "attachments": {},
   "cell_type": "markdown",
   "metadata": {},
   "source": [
    "#### `Avg_glucozo_level: mức độ glucozo trung bình trong máu` "
   ]
  },
  {
   "cell_type": "code",
   "execution_count": null,
   "metadata": {},
   "outputs": [],
   "source": [
    "stroke_df = patient_df.groupby(['stroke'])\n",
    "stroke1_df = stroke_df.get_group(1)\n",
    "\n",
    "sns.kdeplot(x = stroke1_df['avg_glucose_level'], y =stroke1_df['bmi'], fill=True);"
   ]
  },
  {
   "attachments": {},
   "cell_type": "markdown",
   "metadata": {},
   "source": [
    "## 4. Maching Learning"
   ]
  },
  {
   "attachments": {},
   "cell_type": "markdown",
   "metadata": {},
   "source": [
    "### `4.1 Chọn thuộc tính để chuẩn bị train mô hình`"
   ]
  },
  {
   "cell_type": "code",
   "execution_count": 136,
   "metadata": {},
   "outputs": [
    {
     "name": "stdout",
     "output_type": "stream",
     "text": [
      "['age', 'avg_glucose_level', 'bmi', 'gender', 'hypertension', 'heart_disease', 'ever_married', 'smoking_status']\n"
     ]
    }
   ],
   "source": [
    "num_features = ['age', 'avg_glucose_level', 'bmi']\n",
    "cat_features = ['gender', 'hypertension', 'heart_disease', 'ever_married', 'smoking_status']\n",
    "\n",
    "features = num_features + cat_features\n",
    "print(features)"
   ]
  },
  {
   "cell_type": "code",
   "execution_count": 137,
   "metadata": {},
   "outputs": [],
   "source": [
    "X = patient_df[features]\n",
    "y = patient_df['stroke']"
   ]
  },
  {
   "cell_type": "code",
   "execution_count": 138,
   "metadata": {},
   "outputs": [
    {
     "data": {
      "text/html": [
       "<div>\n",
       "<style scoped>\n",
       "    .dataframe tbody tr th:only-of-type {\n",
       "        vertical-align: middle;\n",
       "    }\n",
       "\n",
       "    .dataframe tbody tr th {\n",
       "        vertical-align: top;\n",
       "    }\n",
       "\n",
       "    .dataframe thead th {\n",
       "        text-align: right;\n",
       "    }\n",
       "</style>\n",
       "<table border=\"1\" class=\"dataframe\">\n",
       "  <thead>\n",
       "    <tr style=\"text-align: right;\">\n",
       "      <th></th>\n",
       "      <th>age</th>\n",
       "      <th>avg_glucose_level</th>\n",
       "      <th>bmi</th>\n",
       "      <th>gender</th>\n",
       "      <th>hypertension</th>\n",
       "      <th>heart_disease</th>\n",
       "      <th>ever_married</th>\n",
       "      <th>smoking_status</th>\n",
       "    </tr>\n",
       "    <tr>\n",
       "      <th>id</th>\n",
       "      <th></th>\n",
       "      <th></th>\n",
       "      <th></th>\n",
       "      <th></th>\n",
       "      <th></th>\n",
       "      <th></th>\n",
       "      <th></th>\n",
       "      <th></th>\n",
       "    </tr>\n",
       "  </thead>\n",
       "  <tbody>\n",
       "    <tr>\n",
       "      <th>9046</th>\n",
       "      <td>67.0</td>\n",
       "      <td>228.69</td>\n",
       "      <td>36.6</td>\n",
       "      <td>Male</td>\n",
       "      <td>0</td>\n",
       "      <td>1</td>\n",
       "      <td>Yes</td>\n",
       "      <td>formerly smoked</td>\n",
       "    </tr>\n",
       "    <tr>\n",
       "      <th>51676</th>\n",
       "      <td>61.0</td>\n",
       "      <td>202.21</td>\n",
       "      <td>30.4</td>\n",
       "      <td>Female</td>\n",
       "      <td>0</td>\n",
       "      <td>0</td>\n",
       "      <td>Yes</td>\n",
       "      <td>never smoked</td>\n",
       "    </tr>\n",
       "    <tr>\n",
       "      <th>31112</th>\n",
       "      <td>80.0</td>\n",
       "      <td>105.92</td>\n",
       "      <td>32.5</td>\n",
       "      <td>Male</td>\n",
       "      <td>0</td>\n",
       "      <td>1</td>\n",
       "      <td>Yes</td>\n",
       "      <td>never smoked</td>\n",
       "    </tr>\n",
       "    <tr>\n",
       "      <th>60182</th>\n",
       "      <td>49.0</td>\n",
       "      <td>171.23</td>\n",
       "      <td>34.4</td>\n",
       "      <td>Female</td>\n",
       "      <td>0</td>\n",
       "      <td>0</td>\n",
       "      <td>Yes</td>\n",
       "      <td>smokes</td>\n",
       "    </tr>\n",
       "    <tr>\n",
       "      <th>1665</th>\n",
       "      <td>79.0</td>\n",
       "      <td>174.12</td>\n",
       "      <td>24.0</td>\n",
       "      <td>Female</td>\n",
       "      <td>1</td>\n",
       "      <td>0</td>\n",
       "      <td>Yes</td>\n",
       "      <td>never smoked</td>\n",
       "    </tr>\n",
       "  </tbody>\n",
       "</table>\n",
       "</div>"
      ],
      "text/plain": [
       "        age  avg_glucose_level   bmi  gender hypertension heart_disease  \\\n",
       "id                                                                        \n",
       "9046   67.0             228.69  36.6    Male            0             1   \n",
       "51676  61.0             202.21  30.4  Female            0             0   \n",
       "31112  80.0             105.92  32.5    Male            0             1   \n",
       "60182  49.0             171.23  34.4  Female            0             0   \n",
       "1665   79.0             174.12  24.0  Female            1             0   \n",
       "\n",
       "      ever_married   smoking_status  \n",
       "id                                   \n",
       "9046           Yes  formerly smoked  \n",
       "51676          Yes     never smoked  \n",
       "31112          Yes     never smoked  \n",
       "60182          Yes           smokes  \n",
       "1665           Yes     never smoked  "
      ]
     },
     "execution_count": 138,
     "metadata": {},
     "output_type": "execute_result"
    }
   ],
   "source": [
    "X.head()"
   ]
  },
  {
   "cell_type": "code",
   "execution_count": 139,
   "metadata": {},
   "outputs": [
    {
     "data": {
      "text/plain": [
       "id\n",
       "9046     1\n",
       "51676    1\n",
       "31112    1\n",
       "60182    1\n",
       "1665     1\n",
       "Name: stroke, dtype: category\n",
       "Categories (2, int64): [0, 1]"
      ]
     },
     "execution_count": 139,
     "metadata": {},
     "output_type": "execute_result"
    }
   ],
   "source": [
    "y.head()"
   ]
  },
  {
   "attachments": {},
   "cell_type": "markdown",
   "metadata": {},
   "source": [
    "### `4.2 Chia dữ liệu từ dataset ban đầu để train`\n",
    "* X -> X_train chiếm `80%` và X_test chiếm `10%`"
   ]
  },
  {
   "cell_type": "code",
   "execution_count": 140,
   "metadata": {},
   "outputs": [],
   "source": [
    "from sklearn.model_selection import train_test_split\n",
    "X_train, X_test, y_train, y_test = train_test_split(X, y, train_size=0.8, test_size=0.2, random_state=0)"
   ]
  },
  {
   "cell_type": "code",
   "execution_count": 141,
   "metadata": {},
   "outputs": [
    {
     "data": {
      "text/plain": [
       "((4088, 8), (1022, 8))"
      ]
     },
     "execution_count": 141,
     "metadata": {},
     "output_type": "execute_result"
    }
   ],
   "source": [
    "X_train.shape, X_test.shape"
   ]
  },
  {
   "attachments": {},
   "cell_type": "markdown",
   "metadata": {},
   "source": [
    "### `4.3 Train mô hình`"
   ]
  },
  {
   "attachments": {},
   "cell_type": "markdown",
   "metadata": {},
   "source": [
    "* Một số thư kiện sklearn giúp ta pre-proccessing"
   ]
  },
  {
   "cell_type": "code",
   "execution_count": 142,
   "metadata": {},
   "outputs": [],
   "source": [
    "#preprocess pipeline \n",
    "from sklearn.preprocessing import OneHotEncoder, StandardScaler\n",
    "from sklearn.impute import SimpleImputer\n",
    "from sklearn.compose import ColumnTransformer\n",
    "from sklearn.pipeline import Pipeline\n",
    "\n",
    "num_transformer = Pipeline(steps=[\n",
    "    ('imputer', SimpleImputer(strategy='median')),\n",
    "    ('scaler', StandardScaler())\n",
    "])\n",
    "\n",
    "cat_transformer = Pipeline(steps=[\n",
    "    ('imputer', SimpleImputer(strategy='most_frequent')),\n",
    "    ('encoder', OneHotEncoder(handle_unknown='ignore'))\n",
    "])"
   ]
  },
  {
   "cell_type": "code",
   "execution_count": 143,
   "metadata": {},
   "outputs": [],
   "source": [
    "preprocessor = ColumnTransformer(transformers=[\n",
    "    ('num', num_transformer, num_features),\n",
    "    ('cat', cat_transformer, cat_features)\n",
    "])"
   ]
  },
  {
   "cell_type": "code",
   "execution_count": 144,
   "metadata": {},
   "outputs": [
    {
     "data": {
      "text/html": [
       "<style>#sk-container-id-3 {color: black;background-color: white;}#sk-container-id-3 pre{padding: 0;}#sk-container-id-3 div.sk-toggleable {background-color: white;}#sk-container-id-3 label.sk-toggleable__label {cursor: pointer;display: block;width: 100%;margin-bottom: 0;padding: 0.3em;box-sizing: border-box;text-align: center;}#sk-container-id-3 label.sk-toggleable__label-arrow:before {content: \"▸\";float: left;margin-right: 0.25em;color: #696969;}#sk-container-id-3 label.sk-toggleable__label-arrow:hover:before {color: black;}#sk-container-id-3 div.sk-estimator:hover label.sk-toggleable__label-arrow:before {color: black;}#sk-container-id-3 div.sk-toggleable__content {max-height: 0;max-width: 0;overflow: hidden;text-align: left;background-color: #f0f8ff;}#sk-container-id-3 div.sk-toggleable__content pre {margin: 0.2em;color: black;border-radius: 0.25em;background-color: #f0f8ff;}#sk-container-id-3 input.sk-toggleable__control:checked~div.sk-toggleable__content {max-height: 200px;max-width: 100%;overflow: auto;}#sk-container-id-3 input.sk-toggleable__control:checked~label.sk-toggleable__label-arrow:before {content: \"▾\";}#sk-container-id-3 div.sk-estimator input.sk-toggleable__control:checked~label.sk-toggleable__label {background-color: #d4ebff;}#sk-container-id-3 div.sk-label input.sk-toggleable__control:checked~label.sk-toggleable__label {background-color: #d4ebff;}#sk-container-id-3 input.sk-hidden--visually {border: 0;clip: rect(1px 1px 1px 1px);clip: rect(1px, 1px, 1px, 1px);height: 1px;margin: -1px;overflow: hidden;padding: 0;position: absolute;width: 1px;}#sk-container-id-3 div.sk-estimator {font-family: monospace;background-color: #f0f8ff;border: 1px dotted black;border-radius: 0.25em;box-sizing: border-box;margin-bottom: 0.5em;}#sk-container-id-3 div.sk-estimator:hover {background-color: #d4ebff;}#sk-container-id-3 div.sk-parallel-item::after {content: \"\";width: 100%;border-bottom: 1px solid gray;flex-grow: 1;}#sk-container-id-3 div.sk-label:hover label.sk-toggleable__label {background-color: #d4ebff;}#sk-container-id-3 div.sk-serial::before {content: \"\";position: absolute;border-left: 1px solid gray;box-sizing: border-box;top: 0;bottom: 0;left: 50%;z-index: 0;}#sk-container-id-3 div.sk-serial {display: flex;flex-direction: column;align-items: center;background-color: white;padding-right: 0.2em;padding-left: 0.2em;position: relative;}#sk-container-id-3 div.sk-item {position: relative;z-index: 1;}#sk-container-id-3 div.sk-parallel {display: flex;align-items: stretch;justify-content: center;background-color: white;position: relative;}#sk-container-id-3 div.sk-item::before, #sk-container-id-3 div.sk-parallel-item::before {content: \"\";position: absolute;border-left: 1px solid gray;box-sizing: border-box;top: 0;bottom: 0;left: 50%;z-index: -1;}#sk-container-id-3 div.sk-parallel-item {display: flex;flex-direction: column;z-index: 1;position: relative;background-color: white;}#sk-container-id-3 div.sk-parallel-item:first-child::after {align-self: flex-end;width: 50%;}#sk-container-id-3 div.sk-parallel-item:last-child::after {align-self: flex-start;width: 50%;}#sk-container-id-3 div.sk-parallel-item:only-child::after {width: 0;}#sk-container-id-3 div.sk-dashed-wrapped {border: 1px dashed gray;margin: 0 0.4em 0.5em 0.4em;box-sizing: border-box;padding-bottom: 0.4em;background-color: white;}#sk-container-id-3 div.sk-label label {font-family: monospace;font-weight: bold;display: inline-block;line-height: 1.2em;}#sk-container-id-3 div.sk-label-container {text-align: center;}#sk-container-id-3 div.sk-container {/* jupyter's `normalize.less` sets `[hidden] { display: none; }` but bootstrap.min.css set `[hidden] { display: none !important; }` so we also need the `!important` here to be able to override the default hidden behavior on the sphinx rendered scikit-learn.org. See: https://github.com/scikit-learn/scikit-learn/issues/21755 */display: inline-block !important;position: relative;}#sk-container-id-3 div.sk-text-repr-fallback {display: none;}</style><div id=\"sk-container-id-3\" class=\"sk-top-container\"><div class=\"sk-text-repr-fallback\"><pre>ColumnTransformer(transformers=[(&#x27;num&#x27;,\n",
       "                                 Pipeline(steps=[(&#x27;imputer&#x27;,\n",
       "                                                  SimpleImputer(strategy=&#x27;median&#x27;)),\n",
       "                                                 (&#x27;scaler&#x27;, StandardScaler())]),\n",
       "                                 [&#x27;age&#x27;, &#x27;avg_glucose_level&#x27;, &#x27;bmi&#x27;]),\n",
       "                                (&#x27;cat&#x27;,\n",
       "                                 Pipeline(steps=[(&#x27;imputer&#x27;,\n",
       "                                                  SimpleImputer(strategy=&#x27;most_frequent&#x27;)),\n",
       "                                                 (&#x27;encoder&#x27;,\n",
       "                                                  OneHotEncoder(handle_unknown=&#x27;ignore&#x27;))]),\n",
       "                                 [&#x27;gender&#x27;, &#x27;hypertension&#x27;, &#x27;heart_disease&#x27;,\n",
       "                                  &#x27;ever_married&#x27;, &#x27;smoking_status&#x27;])])</pre><b>In a Jupyter environment, please rerun this cell to show the HTML representation or trust the notebook. <br />On GitHub, the HTML representation is unable to render, please try loading this page with nbviewer.org.</b></div><div class=\"sk-container\" hidden><div class=\"sk-item sk-dashed-wrapped\"><div class=\"sk-label-container\"><div class=\"sk-label sk-toggleable\"><input class=\"sk-toggleable__control sk-hidden--visually\" id=\"sk-estimator-id-9\" type=\"checkbox\" ><label for=\"sk-estimator-id-9\" class=\"sk-toggleable__label sk-toggleable__label-arrow\">ColumnTransformer</label><div class=\"sk-toggleable__content\"><pre>ColumnTransformer(transformers=[(&#x27;num&#x27;,\n",
       "                                 Pipeline(steps=[(&#x27;imputer&#x27;,\n",
       "                                                  SimpleImputer(strategy=&#x27;median&#x27;)),\n",
       "                                                 (&#x27;scaler&#x27;, StandardScaler())]),\n",
       "                                 [&#x27;age&#x27;, &#x27;avg_glucose_level&#x27;, &#x27;bmi&#x27;]),\n",
       "                                (&#x27;cat&#x27;,\n",
       "                                 Pipeline(steps=[(&#x27;imputer&#x27;,\n",
       "                                                  SimpleImputer(strategy=&#x27;most_frequent&#x27;)),\n",
       "                                                 (&#x27;encoder&#x27;,\n",
       "                                                  OneHotEncoder(handle_unknown=&#x27;ignore&#x27;))]),\n",
       "                                 [&#x27;gender&#x27;, &#x27;hypertension&#x27;, &#x27;heart_disease&#x27;,\n",
       "                                  &#x27;ever_married&#x27;, &#x27;smoking_status&#x27;])])</pre></div></div></div><div class=\"sk-parallel\"><div class=\"sk-parallel-item\"><div class=\"sk-item\"><div class=\"sk-label-container\"><div class=\"sk-label sk-toggleable\"><input class=\"sk-toggleable__control sk-hidden--visually\" id=\"sk-estimator-id-10\" type=\"checkbox\" ><label for=\"sk-estimator-id-10\" class=\"sk-toggleable__label sk-toggleable__label-arrow\">num</label><div class=\"sk-toggleable__content\"><pre>[&#x27;age&#x27;, &#x27;avg_glucose_level&#x27;, &#x27;bmi&#x27;]</pre></div></div></div><div class=\"sk-serial\"><div class=\"sk-item\"><div class=\"sk-serial\"><div class=\"sk-item\"><div class=\"sk-estimator sk-toggleable\"><input class=\"sk-toggleable__control sk-hidden--visually\" id=\"sk-estimator-id-11\" type=\"checkbox\" ><label for=\"sk-estimator-id-11\" class=\"sk-toggleable__label sk-toggleable__label-arrow\">SimpleImputer</label><div class=\"sk-toggleable__content\"><pre>SimpleImputer(strategy=&#x27;median&#x27;)</pre></div></div></div><div class=\"sk-item\"><div class=\"sk-estimator sk-toggleable\"><input class=\"sk-toggleable__control sk-hidden--visually\" id=\"sk-estimator-id-12\" type=\"checkbox\" ><label for=\"sk-estimator-id-12\" class=\"sk-toggleable__label sk-toggleable__label-arrow\">StandardScaler</label><div class=\"sk-toggleable__content\"><pre>StandardScaler()</pre></div></div></div></div></div></div></div></div><div class=\"sk-parallel-item\"><div class=\"sk-item\"><div class=\"sk-label-container\"><div class=\"sk-label sk-toggleable\"><input class=\"sk-toggleable__control sk-hidden--visually\" id=\"sk-estimator-id-13\" type=\"checkbox\" ><label for=\"sk-estimator-id-13\" class=\"sk-toggleable__label sk-toggleable__label-arrow\">cat</label><div class=\"sk-toggleable__content\"><pre>[&#x27;gender&#x27;, &#x27;hypertension&#x27;, &#x27;heart_disease&#x27;, &#x27;ever_married&#x27;, &#x27;smoking_status&#x27;]</pre></div></div></div><div class=\"sk-serial\"><div class=\"sk-item\"><div class=\"sk-serial\"><div class=\"sk-item\"><div class=\"sk-estimator sk-toggleable\"><input class=\"sk-toggleable__control sk-hidden--visually\" id=\"sk-estimator-id-14\" type=\"checkbox\" ><label for=\"sk-estimator-id-14\" class=\"sk-toggleable__label sk-toggleable__label-arrow\">SimpleImputer</label><div class=\"sk-toggleable__content\"><pre>SimpleImputer(strategy=&#x27;most_frequent&#x27;)</pre></div></div></div><div class=\"sk-item\"><div class=\"sk-estimator sk-toggleable\"><input class=\"sk-toggleable__control sk-hidden--visually\" id=\"sk-estimator-id-15\" type=\"checkbox\" ><label for=\"sk-estimator-id-15\" class=\"sk-toggleable__label sk-toggleable__label-arrow\">OneHotEncoder</label><div class=\"sk-toggleable__content\"><pre>OneHotEncoder(handle_unknown=&#x27;ignore&#x27;)</pre></div></div></div></div></div></div></div></div></div></div></div></div>"
      ],
      "text/plain": [
       "ColumnTransformer(transformers=[('num',\n",
       "                                 Pipeline(steps=[('imputer',\n",
       "                                                  SimpleImputer(strategy='median')),\n",
       "                                                 ('scaler', StandardScaler())]),\n",
       "                                 ['age', 'avg_glucose_level', 'bmi']),\n",
       "                                ('cat',\n",
       "                                 Pipeline(steps=[('imputer',\n",
       "                                                  SimpleImputer(strategy='most_frequent')),\n",
       "                                                 ('encoder',\n",
       "                                                  OneHotEncoder(handle_unknown='ignore'))]),\n",
       "                                 ['gender', 'hypertension', 'heart_disease',\n",
       "                                  'ever_married', 'smoking_status'])])"
      ]
     },
     "execution_count": 144,
     "metadata": {},
     "output_type": "execute_result"
    }
   ],
   "source": [
    "preprocessor.fit(X_train)"
   ]
  },
  {
   "cell_type": "code",
   "execution_count": 145,
   "metadata": {},
   "outputs": [],
   "source": [
    "X_train = preprocessor.transform(X_train)"
   ]
  },
  {
   "cell_type": "code",
   "execution_count": 146,
   "metadata": {},
   "outputs": [],
   "source": [
    "X_test = preprocessor.transform(X_test)"
   ]
  },
  {
   "attachments": {},
   "cell_type": "markdown",
   "metadata": {},
   "source": [
    "* Lưu ý: Mình không train hết 80% trên X_train đã split ở dataset.\n",
    "* Chia X_train trên thành `80%` X_train và `20%` X_valid. X_valid t dùng để kiểm chứng mô hình mà mình đã train.\n",
    "* Tương tự, ta cũng split y_train."
   ]
  },
  {
   "cell_type": "code",
   "execution_count": 147,
   "metadata": {},
   "outputs": [],
   "source": [
    "X_train, X_val, y_train, y_val = train_test_split(X_train, y_train, train_size=0.8, test_size=0.2)"
   ]
  },
  {
   "cell_type": "code",
   "execution_count": 174,
   "metadata": {},
   "outputs": [
    {
     "data": {
      "text/plain": [
       "((3270, 16), (818, 16))"
      ]
     },
     "execution_count": 174,
     "metadata": {},
     "output_type": "execute_result"
    }
   ],
   "source": [
    "X_train.shape, X_val.shape"
   ]
  },
  {
   "cell_type": "code",
   "execution_count": 152,
   "metadata": {},
   "outputs": [
    {
     "data": {
      "text/plain": [
       "(1022, 16)"
      ]
     },
     "execution_count": 152,
     "metadata": {},
     "output_type": "execute_result"
    }
   ],
   "source": [
    "X_test.shape"
   ]
  },
  {
   "attachments": {},
   "cell_type": "markdown",
   "metadata": {},
   "source": [
    "* `X_train, X_valid, X_test`\n",
    "* `y_train, y_valid, y_test`"
   ]
  },
  {
   "attachments": {},
   "cell_type": "markdown",
   "metadata": {},
   "source": [
    "* Áp dụng cây quyết định phân loại vì chúng ta đang theo hướng từ thông tin của một bệnh nhân cho ra người đó có bị đột quỵ hay không? Vận dụng lý thuyết cây quyết định đã học ở môn Cơ sở trí tuệ nhân tạo."
   ]
  },
  {
   "cell_type": "code",
   "execution_count": 161,
   "metadata": {},
   "outputs": [],
   "source": [
    "#binary classification\n",
    "\n",
    "# sklearn model\n",
    "from sklearn.tree import DecisionTreeClassifier\n",
    "from sklearn.metrics import precision_score, recall_score, classification_report, confusion_matrix"
   ]
  },
  {
   "cell_type": "code",
   "execution_count": 162,
   "metadata": {},
   "outputs": [
    {
     "data": {
      "text/html": [
       "<style>#sk-container-id-5 {color: black;background-color: white;}#sk-container-id-5 pre{padding: 0;}#sk-container-id-5 div.sk-toggleable {background-color: white;}#sk-container-id-5 label.sk-toggleable__label {cursor: pointer;display: block;width: 100%;margin-bottom: 0;padding: 0.3em;box-sizing: border-box;text-align: center;}#sk-container-id-5 label.sk-toggleable__label-arrow:before {content: \"▸\";float: left;margin-right: 0.25em;color: #696969;}#sk-container-id-5 label.sk-toggleable__label-arrow:hover:before {color: black;}#sk-container-id-5 div.sk-estimator:hover label.sk-toggleable__label-arrow:before {color: black;}#sk-container-id-5 div.sk-toggleable__content {max-height: 0;max-width: 0;overflow: hidden;text-align: left;background-color: #f0f8ff;}#sk-container-id-5 div.sk-toggleable__content pre {margin: 0.2em;color: black;border-radius: 0.25em;background-color: #f0f8ff;}#sk-container-id-5 input.sk-toggleable__control:checked~div.sk-toggleable__content {max-height: 200px;max-width: 100%;overflow: auto;}#sk-container-id-5 input.sk-toggleable__control:checked~label.sk-toggleable__label-arrow:before {content: \"▾\";}#sk-container-id-5 div.sk-estimator input.sk-toggleable__control:checked~label.sk-toggleable__label {background-color: #d4ebff;}#sk-container-id-5 div.sk-label input.sk-toggleable__control:checked~label.sk-toggleable__label {background-color: #d4ebff;}#sk-container-id-5 input.sk-hidden--visually {border: 0;clip: rect(1px 1px 1px 1px);clip: rect(1px, 1px, 1px, 1px);height: 1px;margin: -1px;overflow: hidden;padding: 0;position: absolute;width: 1px;}#sk-container-id-5 div.sk-estimator {font-family: monospace;background-color: #f0f8ff;border: 1px dotted black;border-radius: 0.25em;box-sizing: border-box;margin-bottom: 0.5em;}#sk-container-id-5 div.sk-estimator:hover {background-color: #d4ebff;}#sk-container-id-5 div.sk-parallel-item::after {content: \"\";width: 100%;border-bottom: 1px solid gray;flex-grow: 1;}#sk-container-id-5 div.sk-label:hover label.sk-toggleable__label {background-color: #d4ebff;}#sk-container-id-5 div.sk-serial::before {content: \"\";position: absolute;border-left: 1px solid gray;box-sizing: border-box;top: 0;bottom: 0;left: 50%;z-index: 0;}#sk-container-id-5 div.sk-serial {display: flex;flex-direction: column;align-items: center;background-color: white;padding-right: 0.2em;padding-left: 0.2em;position: relative;}#sk-container-id-5 div.sk-item {position: relative;z-index: 1;}#sk-container-id-5 div.sk-parallel {display: flex;align-items: stretch;justify-content: center;background-color: white;position: relative;}#sk-container-id-5 div.sk-item::before, #sk-container-id-5 div.sk-parallel-item::before {content: \"\";position: absolute;border-left: 1px solid gray;box-sizing: border-box;top: 0;bottom: 0;left: 50%;z-index: -1;}#sk-container-id-5 div.sk-parallel-item {display: flex;flex-direction: column;z-index: 1;position: relative;background-color: white;}#sk-container-id-5 div.sk-parallel-item:first-child::after {align-self: flex-end;width: 50%;}#sk-container-id-5 div.sk-parallel-item:last-child::after {align-self: flex-start;width: 50%;}#sk-container-id-5 div.sk-parallel-item:only-child::after {width: 0;}#sk-container-id-5 div.sk-dashed-wrapped {border: 1px dashed gray;margin: 0 0.4em 0.5em 0.4em;box-sizing: border-box;padding-bottom: 0.4em;background-color: white;}#sk-container-id-5 div.sk-label label {font-family: monospace;font-weight: bold;display: inline-block;line-height: 1.2em;}#sk-container-id-5 div.sk-label-container {text-align: center;}#sk-container-id-5 div.sk-container {/* jupyter's `normalize.less` sets `[hidden] { display: none; }` but bootstrap.min.css set `[hidden] { display: none !important; }` so we also need the `!important` here to be able to override the default hidden behavior on the sphinx rendered scikit-learn.org. See: https://github.com/scikit-learn/scikit-learn/issues/21755 */display: inline-block !important;position: relative;}#sk-container-id-5 div.sk-text-repr-fallback {display: none;}</style><div id=\"sk-container-id-5\" class=\"sk-top-container\"><div class=\"sk-text-repr-fallback\"><pre>DecisionTreeClassifier(criterion=&#x27;entropy&#x27;, max_depth=8, random_state=2022)</pre><b>In a Jupyter environment, please rerun this cell to show the HTML representation or trust the notebook. <br />On GitHub, the HTML representation is unable to render, please try loading this page with nbviewer.org.</b></div><div class=\"sk-container\" hidden><div class=\"sk-item\"><div class=\"sk-estimator sk-toggleable\"><input class=\"sk-toggleable__control sk-hidden--visually\" id=\"sk-estimator-id-17\" type=\"checkbox\" checked><label for=\"sk-estimator-id-17\" class=\"sk-toggleable__label sk-toggleable__label-arrow\">DecisionTreeClassifier</label><div class=\"sk-toggleable__content\"><pre>DecisionTreeClassifier(criterion=&#x27;entropy&#x27;, max_depth=8, random_state=2022)</pre></div></div></div></div></div>"
      ],
      "text/plain": [
       "DecisionTreeClassifier(criterion='entropy', max_depth=8, random_state=2022)"
      ]
     },
     "execution_count": 162,
     "metadata": {},
     "output_type": "execute_result"
    }
   ],
   "source": [
    "# Decision Tree\n",
    "decision_tree = DecisionTreeClassifier(criterion='entropy', max_depth=8, random_state=2022)\n",
    "decision_tree.fit(X_train, y_train)"
   ]
  },
  {
   "attachments": {},
   "cell_type": "markdown",
   "metadata": {},
   "source": [
    "### `Bước 2: Validation Data`"
   ]
  },
  {
   "cell_type": "code",
   "execution_count": 175,
   "metadata": {},
   "outputs": [
    {
     "data": {
      "text/plain": [
       "0.9547677261613692"
      ]
     },
     "execution_count": 175,
     "metadata": {},
     "output_type": "execute_result"
    }
   ],
   "source": [
    "decision_tree.score(X_val, y_val)"
   ]
  },
  {
   "cell_type": "code",
   "execution_count": 176,
   "metadata": {},
   "outputs": [],
   "source": [
    "y_pred = decision_tree.predict(X_val)"
   ]
  },
  {
   "cell_type": "code",
   "execution_count": 177,
   "metadata": {},
   "outputs": [
    {
     "data": {
      "text/plain": [
       "(0.35, 0.22580645161290322)"
      ]
     },
     "execution_count": 177,
     "metadata": {},
     "output_type": "execute_result"
    }
   ],
   "source": [
    "precision_score(y_val, y_pred), recall_score(y_val, y_pred)"
   ]
  },
  {
   "cell_type": "code",
   "execution_count": 166,
   "metadata": {},
   "outputs": [
    {
     "name": "stdout",
     "output_type": "stream",
     "text": [
      "              precision    recall  f1-score   support\n",
      "\n",
      "           0       0.97      0.98      0.98       787\n",
      "           1       0.35      0.23      0.27        31\n",
      "\n",
      "    accuracy                           0.95       818\n",
      "   macro avg       0.66      0.60      0.63       818\n",
      "weighted avg       0.95      0.95      0.95       818\n",
      "\n"
     ]
    }
   ],
   "source": [
    "print(classification_report(y_val, y_pred))"
   ]
  },
  {
   "attachments": {},
   "cell_type": "markdown",
   "metadata": {},
   "source": [
    "`Phân tích report:`\n",
    "* Lớp người không bị đột quỵ với mô hình dự đoán rất tốt\n",
    "* Tuy nhiên với lớp người không bị đột quỵ thì độ chỉnh xác chỉ có 35%"
   ]
  },
  {
   "attachments": {},
   "cell_type": "markdown",
   "metadata": {},
   "source": [
    "### `Bước 3: Test Data`"
   ]
  },
  {
   "cell_type": "code",
   "execution_count": 183,
   "metadata": {},
   "outputs": [],
   "source": [
    "y_test_preds = decision_tree.predict(X_test)"
   ]
  },
  {
   "cell_type": "code",
   "execution_count": 186,
   "metadata": {},
   "outputs": [
    {
     "data": {
      "text/html": [
       "<div>\n",
       "<style scoped>\n",
       "    .dataframe tbody tr th:only-of-type {\n",
       "        vertical-align: middle;\n",
       "    }\n",
       "\n",
       "    .dataframe tbody tr th {\n",
       "        vertical-align: top;\n",
       "    }\n",
       "\n",
       "    .dataframe thead th {\n",
       "        text-align: right;\n",
       "    }\n",
       "</style>\n",
       "<table border=\"1\" class=\"dataframe\">\n",
       "  <thead>\n",
       "    <tr style=\"text-align: right;\">\n",
       "      <th></th>\n",
       "      <th>y</th>\n",
       "      <th>y_preds</th>\n",
       "    </tr>\n",
       "    <tr>\n",
       "      <th>id</th>\n",
       "      <th></th>\n",
       "      <th></th>\n",
       "    </tr>\n",
       "  </thead>\n",
       "  <tbody>\n",
       "    <tr>\n",
       "      <th>61960</th>\n",
       "      <td>1</td>\n",
       "      <td>0</td>\n",
       "    </tr>\n",
       "    <tr>\n",
       "      <th>31741</th>\n",
       "      <td>0</td>\n",
       "      <td>0</td>\n",
       "    </tr>\n",
       "    <tr>\n",
       "      <th>59451</th>\n",
       "      <td>0</td>\n",
       "      <td>0</td>\n",
       "    </tr>\n",
       "    <tr>\n",
       "      <th>40670</th>\n",
       "      <td>0</td>\n",
       "      <td>0</td>\n",
       "    </tr>\n",
       "    <tr>\n",
       "      <th>25391</th>\n",
       "      <td>0</td>\n",
       "      <td>0</td>\n",
       "    </tr>\n",
       "    <tr>\n",
       "      <th>...</th>\n",
       "      <td>...</td>\n",
       "      <td>...</td>\n",
       "    </tr>\n",
       "    <tr>\n",
       "      <th>2953</th>\n",
       "      <td>0</td>\n",
       "      <td>0</td>\n",
       "    </tr>\n",
       "    <tr>\n",
       "      <th>47799</th>\n",
       "      <td>0</td>\n",
       "      <td>0</td>\n",
       "    </tr>\n",
       "    <tr>\n",
       "      <th>61013</th>\n",
       "      <td>0</td>\n",
       "      <td>0</td>\n",
       "    </tr>\n",
       "    <tr>\n",
       "      <th>66400</th>\n",
       "      <td>1</td>\n",
       "      <td>0</td>\n",
       "    </tr>\n",
       "    <tr>\n",
       "      <th>9013</th>\n",
       "      <td>0</td>\n",
       "      <td>0</td>\n",
       "    </tr>\n",
       "  </tbody>\n",
       "</table>\n",
       "<p>1022 rows × 2 columns</p>\n",
       "</div>"
      ],
      "text/plain": [
       "       y  y_preds\n",
       "id               \n",
       "61960  1        0\n",
       "31741  0        0\n",
       "59451  0        0\n",
       "40670  0        0\n",
       "25391  0        0\n",
       "...   ..      ...\n",
       "2953   0        0\n",
       "47799  0        0\n",
       "61013  0        0\n",
       "66400  1        0\n",
       "9013   0        0\n",
       "\n",
       "[1022 rows x 2 columns]"
      ]
     },
     "execution_count": 186,
     "metadata": {},
     "output_type": "execute_result"
    }
   ],
   "source": [
    "pd.DataFrame({'y': y_test, 'y_preds': y_test_preds})"
   ]
  }
 ],
 "metadata": {
  "kernelspec": {
   "display_name": "Python 3",
   "language": "python",
   "name": "python3"
  },
  "language_info": {
   "codemirror_mode": {
    "name": "ipython",
    "version": 3
   },
   "file_extension": ".py",
   "mimetype": "text/x-python",
   "name": "python",
   "nbconvert_exporter": "python",
   "pygments_lexer": "ipython3",
   "version": "3.11.2"
  },
  "orig_nbformat": 4
 },
 "nbformat": 4,
 "nbformat_minor": 2
}
